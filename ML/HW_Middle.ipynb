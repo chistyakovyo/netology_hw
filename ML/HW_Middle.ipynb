{
 "cells": [
  {
   "cell_type": "markdown",
   "metadata": {},
   "source": [
    "## Промежуточная работа"
   ]
  },
  {
   "cell_type": "markdown",
   "metadata": {},
   "source": [
    "Мы владеем сетью магазинов, в которых продаются различные товары. Наши сотрудники собрали датасет из 8523 продаж товаров в различных магазинах нашей сети. Наша задача построить модель, предсказывающую продажи каждого продукта в конкретном магазине. Используя эту модель, попробовать выявить факторы, больше всего влияющие на увеличение продаж. Описание датасета:\n",
    "\n",
    " - Item_Identifier\t-\tId продукта\n",
    " - Item_Weight\t-\tВес продукта\n",
    " - Item_Fat_Content\t-\tСодержание жира в продукте\n",
    " - Item_Visibility\t-\t%полок, отведенный под наш продукт в конкретном магазине\n",
    " - Item_Type\t-\tКатегория продукта\n",
    " - Item_MRP\t-\tМаксимальная цена продажи продукта\n",
    " - Outlet_Identifier\t-\tИдентификатор магазина\n",
    " - Outlet_Establishment_Year\t-\tГод открытия магазина\n",
    " - Outlet_Size\t-\tПлощадь магазина\n",
    " - Outlet_Location_Type\t-\tТип города, в котором расположен магазин\n",
    " - Outlet_Type\t-\tПризнак является ли магазин продуктовым или супермаркетом\n",
    " - Item_Outlet_Sales\t-\tПродажи продукта в конкретном магазине. Именно ее и надо предсказывать\n",
    "\n",
    "В результате работы должен получиться:\n",
    "- Jupyter-ноутбук с моделью\n",
    "- Признаки, влияющие больше всего на уровень продаж\n",
    "- Датасет, если после ваших манипуляций он отличается от исходного;\n",
    "- Документ с обоснованием решения и краткими результатами: какие техники и почему использовали, что получили, что можно улучшить (можно в рамках jupyter notebook’а)\n",
    "\n",
    "Критерии оценки:\n",
    "\n",
    "Баллы\tЧто надо сделать\n",
    " - 10\tПровести EDA\n",
    " - 10\tОбработать категориальные признаки \n",
    " - 10\tУстранить пропущенные значения\n",
    " - 10\tИзучить корреляцию признаков с данными о продажах\n",
    " - 10\tВыбрать и обосновать метрику, на основе которой будем измерять качество полученной модели\n",
    " - 20\tПостроить и подобрать оптимальные параметры для любой линейной модели\n",
    " - 20\tПостроить и подобрать оптимальные параметры для любой нелинейной модели\n",
    " - 20\tПровести стекинг нескольких моделей\n",
    " - 10\tОценить качество модели на отложенной выборке\n",
    " - 10\tВыбрать топ 3 признака больше всего влияющие на объемы продаж\n",
    "\n",
    "Все шаги решения должны сопровождаться подробным описанием полученных результатов и обоснованием выбора того или иного шага! За отсутствие описания так же будут снижаться баллы.\n",
    "\n",
    "Максимальное доступное количество баллов - 130\n",
    "Для получения зачета надо набрать минимум 80 баллов\n",
    "Для получения зачета с отличием надо набрать минимум 120 баллов\n"
   ]
  },
  {
   "cell_type": "markdown",
   "metadata": {},
   "source": [
    "#### Импорт библиотек"
   ]
  },
  {
   "cell_type": "code",
   "execution_count": 1,
   "metadata": {
    "collapsed": true
   },
   "outputs": [],
   "source": [
    "import pandas as pd\n",
    "import numpy as np\n",
    "import matplotlib.pyplot as plt\n",
    "import seaborn as sns\n",
    "\n",
    "from sklearn.preprocessing import LabelEncoder, StandardScaler\n",
    "from sklearn.model_selection import train_test_split, GridSearchCV, StratifiedKFold\n",
    "from sklearn.neighbors import KNeighborsRegressor\n",
    "from sklearn.neural_network import MLPRegressor\n",
    "from sklearn.linear_model import LinearRegression, SGDRegressor\n",
    "from sklearn.tree import DecisionTreeClassifier, DecisionTreeRegressor\n",
    "from sklearn.ensemble import GradientBoostingRegressor\n",
    "\n",
    "%matplotlib inline"
   ]
  },
  {
   "cell_type": "markdown",
   "metadata": {},
   "source": [
    "#### Загружаем датасет"
   ]
  },
  {
   "cell_type": "code",
   "execution_count": 2,
   "metadata": {},
   "outputs": [
    {
     "data": {
      "text/html": [
       "<div>\n",
       "<style>\n",
       "    .dataframe thead tr:only-child th {\n",
       "        text-align: right;\n",
       "    }\n",
       "\n",
       "    .dataframe thead th {\n",
       "        text-align: left;\n",
       "    }\n",
       "\n",
       "    .dataframe tbody tr th {\n",
       "        vertical-align: top;\n",
       "    }\n",
       "</style>\n",
       "<table border=\"1\" class=\"dataframe\">\n",
       "  <thead>\n",
       "    <tr style=\"text-align: right;\">\n",
       "      <th></th>\n",
       "      <th>Item_Identifier</th>\n",
       "      <th>Item_Weight</th>\n",
       "      <th>Item_Fat_Content</th>\n",
       "      <th>Item_Visibility</th>\n",
       "      <th>Item_Type</th>\n",
       "      <th>Item_MRP</th>\n",
       "      <th>Outlet_Identifier</th>\n",
       "      <th>Outlet_Establishment_Year</th>\n",
       "      <th>Outlet_Size</th>\n",
       "      <th>Outlet_Location_Type</th>\n",
       "      <th>Outlet_Type</th>\n",
       "      <th>Item_Outlet_Sales</th>\n",
       "    </tr>\n",
       "  </thead>\n",
       "  <tbody>\n",
       "    <tr>\n",
       "      <th>0</th>\n",
       "      <td>FDA15</td>\n",
       "      <td>9.30</td>\n",
       "      <td>Low Fat</td>\n",
       "      <td>0.016047</td>\n",
       "      <td>Dairy</td>\n",
       "      <td>249.8092</td>\n",
       "      <td>OUT049</td>\n",
       "      <td>1999</td>\n",
       "      <td>Medium</td>\n",
       "      <td>Tier 1</td>\n",
       "      <td>Supermarket Type1</td>\n",
       "      <td>3735.1380</td>\n",
       "    </tr>\n",
       "    <tr>\n",
       "      <th>1</th>\n",
       "      <td>DRC01</td>\n",
       "      <td>5.92</td>\n",
       "      <td>Regular</td>\n",
       "      <td>0.019278</td>\n",
       "      <td>Soft Drinks</td>\n",
       "      <td>48.2692</td>\n",
       "      <td>OUT018</td>\n",
       "      <td>2009</td>\n",
       "      <td>Medium</td>\n",
       "      <td>Tier 3</td>\n",
       "      <td>Supermarket Type2</td>\n",
       "      <td>443.4228</td>\n",
       "    </tr>\n",
       "    <tr>\n",
       "      <th>2</th>\n",
       "      <td>FDN15</td>\n",
       "      <td>17.50</td>\n",
       "      <td>Low Fat</td>\n",
       "      <td>0.016760</td>\n",
       "      <td>Meat</td>\n",
       "      <td>141.6180</td>\n",
       "      <td>OUT049</td>\n",
       "      <td>1999</td>\n",
       "      <td>Medium</td>\n",
       "      <td>Tier 1</td>\n",
       "      <td>Supermarket Type1</td>\n",
       "      <td>2097.2700</td>\n",
       "    </tr>\n",
       "    <tr>\n",
       "      <th>3</th>\n",
       "      <td>FDX07</td>\n",
       "      <td>19.20</td>\n",
       "      <td>Regular</td>\n",
       "      <td>0.000000</td>\n",
       "      <td>Fruits and Vegetables</td>\n",
       "      <td>182.0950</td>\n",
       "      <td>OUT010</td>\n",
       "      <td>1998</td>\n",
       "      <td>NaN</td>\n",
       "      <td>Tier 3</td>\n",
       "      <td>Grocery Store</td>\n",
       "      <td>732.3800</td>\n",
       "    </tr>\n",
       "    <tr>\n",
       "      <th>4</th>\n",
       "      <td>NCD19</td>\n",
       "      <td>8.93</td>\n",
       "      <td>Low Fat</td>\n",
       "      <td>0.000000</td>\n",
       "      <td>Household</td>\n",
       "      <td>53.8614</td>\n",
       "      <td>OUT013</td>\n",
       "      <td>1987</td>\n",
       "      <td>High</td>\n",
       "      <td>Tier 3</td>\n",
       "      <td>Supermarket Type1</td>\n",
       "      <td>994.7052</td>\n",
       "    </tr>\n",
       "  </tbody>\n",
       "</table>\n",
       "</div>"
      ],
      "text/plain": [
       "  Item_Identifier  Item_Weight Item_Fat_Content  Item_Visibility  \\\n",
       "0           FDA15         9.30          Low Fat         0.016047   \n",
       "1           DRC01         5.92          Regular         0.019278   \n",
       "2           FDN15        17.50          Low Fat         0.016760   \n",
       "3           FDX07        19.20          Regular         0.000000   \n",
       "4           NCD19         8.93          Low Fat         0.000000   \n",
       "\n",
       "               Item_Type  Item_MRP Outlet_Identifier  \\\n",
       "0                  Dairy  249.8092            OUT049   \n",
       "1            Soft Drinks   48.2692            OUT018   \n",
       "2                   Meat  141.6180            OUT049   \n",
       "3  Fruits and Vegetables  182.0950            OUT010   \n",
       "4              Household   53.8614            OUT013   \n",
       "\n",
       "   Outlet_Establishment_Year Outlet_Size Outlet_Location_Type  \\\n",
       "0                       1999      Medium               Tier 1   \n",
       "1                       2009      Medium               Tier 3   \n",
       "2                       1999      Medium               Tier 1   \n",
       "3                       1998         NaN               Tier 3   \n",
       "4                       1987        High               Tier 3   \n",
       "\n",
       "         Outlet_Type  Item_Outlet_Sales  \n",
       "0  Supermarket Type1          3735.1380  \n",
       "1  Supermarket Type2           443.4228  \n",
       "2  Supermarket Type1          2097.2700  \n",
       "3      Grocery Store           732.3800  \n",
       "4  Supermarket Type1           994.7052  "
      ]
     },
     "execution_count": 2,
     "metadata": {},
     "output_type": "execute_result"
    }
   ],
   "source": [
    "df = pd.read_csv('data.csv')\n",
    "df.head()"
   ]
  },
  {
   "cell_type": "markdown",
   "metadata": {},
   "source": [
    "#### EDA"
   ]
  },
  {
   "cell_type": "code",
   "execution_count": 3,
   "metadata": {
    "scrolled": true
   },
   "outputs": [
    {
     "name": "stdout",
     "output_type": "stream",
     "text": [
      "<class 'pandas.core.frame.DataFrame'>\n",
      "RangeIndex: 8523 entries, 0 to 8522\n",
      "Data columns (total 12 columns):\n",
      "Item_Identifier              8523 non-null object\n",
      "Item_Weight                  7060 non-null float64\n",
      "Item_Fat_Content             8523 non-null object\n",
      "Item_Visibility              8523 non-null float64\n",
      "Item_Type                    8523 non-null object\n",
      "Item_MRP                     8523 non-null float64\n",
      "Outlet_Identifier            8523 non-null object\n",
      "Outlet_Establishment_Year    8523 non-null int64\n",
      "Outlet_Size                  6113 non-null object\n",
      "Outlet_Location_Type         8523 non-null object\n",
      "Outlet_Type                  8523 non-null object\n",
      "Item_Outlet_Sales            8523 non-null float64\n",
      "dtypes: float64(4), int64(1), object(7)\n",
      "memory usage: 799.1+ KB\n"
     ]
    }
   ],
   "source": [
    "df.info()"
   ]
  },
  {
   "cell_type": "markdown",
   "metadata": {},
   "source": [
    "Видим, что встречаются null значения в Item_Weight, Outlet_Size"
   ]
  },
  {
   "cell_type": "code",
   "execution_count": 4,
   "metadata": {},
   "outputs": [
    {
     "data": {
      "text/html": [
       "<div>\n",
       "<style>\n",
       "    .dataframe thead tr:only-child th {\n",
       "        text-align: right;\n",
       "    }\n",
       "\n",
       "    .dataframe thead th {\n",
       "        text-align: left;\n",
       "    }\n",
       "\n",
       "    .dataframe tbody tr th {\n",
       "        vertical-align: top;\n",
       "    }\n",
       "</style>\n",
       "<table border=\"1\" class=\"dataframe\">\n",
       "  <thead>\n",
       "    <tr style=\"text-align: right;\">\n",
       "      <th></th>\n",
       "      <th>Item_Weight</th>\n",
       "      <th>Item_Visibility</th>\n",
       "      <th>Item_MRP</th>\n",
       "      <th>Outlet_Establishment_Year</th>\n",
       "      <th>Item_Outlet_Sales</th>\n",
       "    </tr>\n",
       "  </thead>\n",
       "  <tbody>\n",
       "    <tr>\n",
       "      <th>count</th>\n",
       "      <td>7060.000000</td>\n",
       "      <td>8523.000000</td>\n",
       "      <td>8523.000000</td>\n",
       "      <td>8523.000000</td>\n",
       "      <td>8523.000000</td>\n",
       "    </tr>\n",
       "    <tr>\n",
       "      <th>mean</th>\n",
       "      <td>12.857645</td>\n",
       "      <td>0.066132</td>\n",
       "      <td>140.992782</td>\n",
       "      <td>1997.831867</td>\n",
       "      <td>2181.288914</td>\n",
       "    </tr>\n",
       "    <tr>\n",
       "      <th>std</th>\n",
       "      <td>4.643456</td>\n",
       "      <td>0.051598</td>\n",
       "      <td>62.275067</td>\n",
       "      <td>8.371760</td>\n",
       "      <td>1706.499616</td>\n",
       "    </tr>\n",
       "    <tr>\n",
       "      <th>min</th>\n",
       "      <td>4.555000</td>\n",
       "      <td>0.000000</td>\n",
       "      <td>31.290000</td>\n",
       "      <td>1985.000000</td>\n",
       "      <td>33.290000</td>\n",
       "    </tr>\n",
       "    <tr>\n",
       "      <th>25%</th>\n",
       "      <td>8.773750</td>\n",
       "      <td>0.026989</td>\n",
       "      <td>93.826500</td>\n",
       "      <td>1987.000000</td>\n",
       "      <td>834.247400</td>\n",
       "    </tr>\n",
       "    <tr>\n",
       "      <th>50%</th>\n",
       "      <td>12.600000</td>\n",
       "      <td>0.053931</td>\n",
       "      <td>143.012800</td>\n",
       "      <td>1999.000000</td>\n",
       "      <td>1794.331000</td>\n",
       "    </tr>\n",
       "    <tr>\n",
       "      <th>75%</th>\n",
       "      <td>16.850000</td>\n",
       "      <td>0.094585</td>\n",
       "      <td>185.643700</td>\n",
       "      <td>2004.000000</td>\n",
       "      <td>3101.296400</td>\n",
       "    </tr>\n",
       "    <tr>\n",
       "      <th>max</th>\n",
       "      <td>21.350000</td>\n",
       "      <td>0.328391</td>\n",
       "      <td>266.888400</td>\n",
       "      <td>2009.000000</td>\n",
       "      <td>13086.964800</td>\n",
       "    </tr>\n",
       "  </tbody>\n",
       "</table>\n",
       "</div>"
      ],
      "text/plain": [
       "       Item_Weight  Item_Visibility     Item_MRP  Outlet_Establishment_Year  \\\n",
       "count  7060.000000      8523.000000  8523.000000                8523.000000   \n",
       "mean     12.857645         0.066132   140.992782                1997.831867   \n",
       "std       4.643456         0.051598    62.275067                   8.371760   \n",
       "min       4.555000         0.000000    31.290000                1985.000000   \n",
       "25%       8.773750         0.026989    93.826500                1987.000000   \n",
       "50%      12.600000         0.053931   143.012800                1999.000000   \n",
       "75%      16.850000         0.094585   185.643700                2004.000000   \n",
       "max      21.350000         0.328391   266.888400                2009.000000   \n",
       "\n",
       "       Item_Outlet_Sales  \n",
       "count        8523.000000  \n",
       "mean         2181.288914  \n",
       "std          1706.499616  \n",
       "min            33.290000  \n",
       "25%           834.247400  \n",
       "50%          1794.331000  \n",
       "75%          3101.296400  \n",
       "max         13086.964800  "
      ]
     },
     "execution_count": 4,
     "metadata": {},
     "output_type": "execute_result"
    }
   ],
   "source": [
    "df.describe()"
   ]
  },
  {
   "cell_type": "code",
   "execution_count": 5,
   "metadata": {
    "collapsed": true
   },
   "outputs": [],
   "source": [
    "num_features = ['Item_Weight', 'Item_Visibility',\n",
    "      'Item_MRP', 'Outlet_Establishment_Year']\n",
    "cat_features = ['Item_Identifier', 'Item_Fat_Content', \n",
    "       'Item_Type', 'Outlet_Identifier',\n",
    "        'Outlet_Size', 'Outlet_Location_Type',\n",
    "       'Outlet_Type']\n",
    "target = ['Item_Outlet_Sales']"
   ]
  },
  {
   "cell_type": "code",
   "execution_count": 6,
   "metadata": {},
   "outputs": [
    {
     "name": "stdout",
     "output_type": "stream",
     "text": [
      "Смотрим статистику распределения количественных признаков\n"
     ]
    },
    {
     "data": {
      "image/png": "[encoded data removed]",
      "text/plain": [
       "<matplotlib.figure.Figure at 0x1a64da99320>"
      ]
     },
     "metadata": {},
     "output_type": "display_data"
    }
   ],
   "source": [
    "print('Смотрим статистику распределения количественных признаков')\n",
    "fig, axes = plt.subplots(1, 4, figsize=(8, 8))\n",
    "for i, feature in enumerate(num_features):\n",
    "    sns.boxplot( y = feature, data = df, ax= axes[i])\n",
    "plt.subplots_adjust(wspace=1, hspace=1)"
   ]
  },
  {
   "cell_type": "markdown",
   "metadata": {},
   "source": [
    "В Item_Visibility видим большое количество выбросов."
   ]
  },
  {
   "cell_type": "code",
   "execution_count": 7,
   "metadata": {},
   "outputs": [
    {
     "name": "stdout",
     "output_type": "stream",
     "text": [
      "Кол-во уникальных товаров\n"
     ]
    },
    {
     "data": {
      "text/plain": [
       "1559"
      ]
     },
     "execution_count": 7,
     "metadata": {},
     "output_type": "execute_result"
    }
   ],
   "source": [
    "print('Кол-во уникальных товаров')\n",
    "len(df.Item_Identifier.unique())"
   ]
  },
  {
   "cell_type": "code",
   "execution_count": 8,
   "metadata": {},
   "outputs": [
    {
     "name": "stdout",
     "output_type": "stream",
     "text": [
      "Кол-во уникальных групп товаров\n"
     ]
    },
    {
     "data": {
      "text/plain": [
       "16"
      ]
     },
     "execution_count": 8,
     "metadata": {},
     "output_type": "execute_result"
    }
   ],
   "source": [
    "print('Кол-во уникальных групп товаров')\n",
    "len(df.Item_Type.unique())"
   ]
  },
  {
   "cell_type": "code",
   "execution_count": 9,
   "metadata": {},
   "outputs": [
    {
     "name": "stdout",
     "output_type": "stream",
     "text": [
      "Кол-во уникальных товаров по группам\n"
     ]
    },
    {
     "data": {
      "text/plain": [
       "Item_Type\n",
       "Baking Goods             119\n",
       "Breads                    45\n",
       "Breakfast                 20\n",
       "Canned                   120\n",
       "Dairy                    125\n",
       "Frozen Foods             155\n",
       "Fruits and Vegetables    220\n",
       "Hard Drinks               40\n",
       "Health and Hygiene        95\n",
       "Household                170\n",
       "Meat                      80\n",
       "Others                    30\n",
       "Seafood                   10\n",
       "Snack Foods              220\n",
       "Soft Drinks               80\n",
       "Starchy Foods             30\n",
       "Name: Item_Identifier, dtype: int64"
      ]
     },
     "execution_count": 9,
     "metadata": {},
     "output_type": "execute_result"
    }
   ],
   "source": [
    "print('Кол-во уникальных товаров по группам')\n",
    "df.groupby(['Item_Type'])['Item_Identifier'].nunique()"
   ]
  },
  {
   "cell_type": "markdown",
   "metadata": {},
   "source": [
    "Из id продуктов, делаю предположение, что первые две буквы обозначают тип продукта, FD - food, DR - drink и т.д.\n",
    "Разделим на два столбца"
   ]
  },
  {
   "cell_type": "code",
   "execution_count": 10,
   "metadata": {
    "collapsed": true
   },
   "outputs": [],
   "source": [
    "df['Item_Group'] = df['Item_Identifier'].str[:2]\n",
    "df['Item'] = df['Item_Identifier'].str[2:]\n",
    "df = df.drop('Item_Identifier', axis = 1)"
   ]
  },
  {
   "cell_type": "code",
   "execution_count": 11,
   "metadata": {},
   "outputs": [
    {
     "name": "stdout",
     "output_type": "stream",
     "text": [
      "Как зависит объем продаж от размера магазинов\n",
      "Не совсем очевидная статистика, у Medium магазинов медиана и диапазон 2-3 квартилей больше, чем у High\n"
     ]
    },
    {
     "data": {
      "text/plain": [
       "<matplotlib.axes._subplots.AxesSubplot at 0x1a64f1676a0>"
      ]
     },
     "execution_count": 11,
     "metadata": {},
     "output_type": "execute_result"
    },
    {
     "data": {
      "image/png": "[encoded data removed]",
      "text/plain": [
       "<matplotlib.figure.Figure at 0x1a64f234ac8>"
      ]
     },
     "metadata": {},
     "output_type": "display_data"
    }
   ],
   "source": [
    "print('Как зависит объем продаж от размера магазинов')\n",
    "print('Не совсем очевидная статистика, у Medium магазинов медиана и диапазон 2-3 квартилей больше, чем у High')\n",
    "sns.boxplot(x = 'Outlet_Size', y ='Item_Outlet_Sales', data = df)"
   ]
  },
  {
   "cell_type": "code",
   "execution_count": 12,
   "metadata": {},
   "outputs": [
    {
     "name": "stdout",
     "output_type": "stream",
     "text": [
      "Как зависит объем продаж от типа магазина\n"
     ]
    },
    {
     "data": {
      "text/plain": [
       "<matplotlib.axes._subplots.AxesSubplot at 0x1a64eb565f8>"
      ]
     },
     "execution_count": 12,
     "metadata": {},
     "output_type": "execute_result"
    },
    {
     "data": {
      "image/png": "[encoded data removed]",
      "text/plain": [
       "<matplotlib.figure.Figure at 0x1a64ef238d0>"
      ]
     },
     "metadata": {},
     "output_type": "display_data"
    }
   ],
   "source": [
    "print('Как зависит объем продаж от типа магазина')\n",
    "sns.boxplot(x = 'Outlet_Type', y ='Item_Outlet_Sales', data = df)"
   ]
  },
  {
   "cell_type": "code",
   "execution_count": 13,
   "metadata": {},
   "outputs": [
    {
     "name": "stdout",
     "output_type": "stream",
     "text": [
      "Как зависит объем продаж от типа города\n",
      "Длz Tier 2 характеры большее дорогие покупки, а для Tier 1 более дешевые\n"
     ]
    },
    {
     "data": {
      "text/plain": [
       "<matplotlib.axes._subplots.AxesSubplot at 0x1a64f3fe518>"
      ]
     },
     "execution_count": 13,
     "metadata": {},
     "output_type": "execute_result"
    },
    {
     "data": {
      "image/png": "[encoded data removed]",
      "text/plain": [
       "<matplotlib.figure.Figure at 0x1a64f3d7080>"
      ]
     },
     "metadata": {},
     "output_type": "display_data"
    }
   ],
   "source": [
    "print('Как зависит объем продаж от типа города')\n",
    "print('Длz Tier 2 характеры большее дорогие покупки, а для Tier 1 более дешевые')\n",
    "sns.boxplot(x = 'Outlet_Location_Type', y ='Item_Outlet_Sales', data = df)"
   ]
  },
  {
   "cell_type": "code",
   "execution_count": 14,
   "metadata": {},
   "outputs": [
    {
     "name": "stdout",
     "output_type": "stream",
     "text": [
      "Как зависит объем продаж от категории товара\n",
      "Тут явных признаков различия нет\n"
     ]
    },
    {
     "data": {
      "text/plain": [
       "<matplotlib.axes._subplots.AxesSubplot at 0x1a64f3d71d0>"
      ]
     },
     "execution_count": 14,
     "metadata": {},
     "output_type": "execute_result"
    },
    {
     "data": {
      "image/png": "[encoded data removed]",
      "text/plain": [
       "<matplotlib.figure.Figure at 0x1a64f3fe470>"
      ]
     },
     "metadata": {},
     "output_type": "display_data"
    }
   ],
   "source": [
    "print('Как зависит объем продаж от категории товара')\n",
    "print('Тут явных признаков различия нет')\n",
    "sns.boxplot(x = 'Item_Type', y ='Item_Outlet_Sales', data = df)"
   ]
  },
  {
   "cell_type": "markdown",
   "metadata": {},
   "source": [
    "#### Заполним пропущенные значения"
   ]
  },
  {
   "cell_type": "markdown",
   "metadata": {},
   "source": [
    "Восстановим вес продукта по среднему значению в категории этого товара"
   ]
  },
  {
   "cell_type": "code",
   "execution_count": 15,
   "metadata": {},
   "outputs": [
    {
     "name": "stderr",
     "output_type": "stream",
     "text": [
      "C:\\ProgramData\\Anaconda3\\lib\\site-packages\\ipykernel_launcher.py:2: SettingWithCopyWarning: \n",
      "A value is trying to be set on a copy of a slice from a DataFrame\n",
      "\n",
      "See the caveats in the documentation: http://pandas.pydata.org/pandas-docs/stable/indexing.html#indexing-view-versus-copy\n",
      "  \n"
     ]
    }
   ],
   "source": [
    "for i in df.Item_Type.unique():\n",
    "    df.Item_Weight[df.Item_Type == i] = df.Item_Weight[df.Item_Type == i].fillna(df.Item_Weight[df.Item_Type == i].mean())"
   ]
  },
  {
   "cell_type": "code",
   "execution_count": 16,
   "metadata": {},
   "outputs": [
    {
     "name": "stdout",
     "output_type": "stream",
     "text": [
      "<class 'pandas.core.frame.DataFrame'>\n",
      "RangeIndex: 8523 entries, 0 to 8522\n",
      "Data columns (total 13 columns):\n",
      "Item_Weight                  8523 non-null float64\n",
      "Item_Fat_Content             8523 non-null object\n",
      "Item_Visibility              8523 non-null float64\n",
      "Item_Type                    8523 non-null object\n",
      "Item_MRP                     8523 non-null float64\n",
      "Outlet_Identifier            8523 non-null object\n",
      "Outlet_Establishment_Year    8523 non-null int64\n",
      "Outlet_Size                  6113 non-null object\n",
      "Outlet_Location_Type         8523 non-null object\n",
      "Outlet_Type                  8523 non-null object\n",
      "Item_Outlet_Sales            8523 non-null float64\n",
      "Item_Group                   8523 non-null object\n",
      "Item                         8523 non-null object\n",
      "dtypes: float64(4), int64(1), object(8)\n",
      "memory usage: 865.7+ KB\n"
     ]
    }
   ],
   "source": [
    "df.info()"
   ]
  },
  {
   "cell_type": "markdown",
   "metadata": {},
   "source": [
    "Посмотрим варианты размера магазина"
   ]
  },
  {
   "cell_type": "code",
   "execution_count": 17,
   "metadata": {},
   "outputs": [
    {
     "data": {
      "text/plain": [
       "array(['Medium', nan, 'High', 'Small'], dtype=object)"
      ]
     },
     "execution_count": 17,
     "metadata": {},
     "output_type": "execute_result"
    }
   ],
   "source": [
    "df.Outlet_Size.unique()"
   ]
  },
  {
   "cell_type": "markdown",
   "metadata": {},
   "source": [
    "Смотрим распределение размеров по типу магазина. Гипотеза - для определенных типов испльзуются определенные площади"
   ]
  },
  {
   "cell_type": "code",
   "execution_count": 18,
   "metadata": {},
   "outputs": [
    {
     "data": {
      "text/plain": [
       "Outlet_Type        Outlet_Size\n",
       "Grocery Store      Small          1\n",
       "Supermarket Type1  High           1\n",
       "                   Medium         1\n",
       "                   Small          2\n",
       "Supermarket Type2  Medium         1\n",
       "Supermarket Type3  Medium         1\n",
       "Name: Outlet_Identifier, dtype: int64"
      ]
     },
     "execution_count": 18,
     "metadata": {},
     "output_type": "execute_result"
    }
   ],
   "source": [
    "df.groupby(['Outlet_Type','Outlet_Size'])['Outlet_Identifier'].nunique()"
   ]
  },
  {
   "cell_type": "code",
   "execution_count": 19,
   "metadata": {},
   "outputs": [
    {
     "data": {
      "text/plain": [
       "Outlet_Type\n",
       "Grocery Store        1\n",
       "Supermarket Type1    2\n",
       "Name: Outlet_Identifier, dtype: int64"
      ]
     },
     "execution_count": 19,
     "metadata": {},
     "output_type": "execute_result"
    }
   ],
   "source": [
    "df[df.Outlet_Size.isnull()].groupby('Outlet_Type')['Outlet_Identifier'].nunique()"
   ]
  },
  {
   "cell_type": "markdown",
   "metadata": {},
   "source": [
    "Для Grocery Store  поставим значение Small"
   ]
  },
  {
   "cell_type": "code",
   "execution_count": 20,
   "metadata": {},
   "outputs": [
    {
     "name": "stderr",
     "output_type": "stream",
     "text": [
      "C:\\ProgramData\\Anaconda3\\lib\\site-packages\\ipykernel_launcher.py:3: SettingWithCopyWarning: \n",
      "A value is trying to be set on a copy of a slice from a DataFrame\n",
      "\n",
      "See the caveats in the documentation: http://pandas.pydata.org/pandas-docs/stable/indexing.html#indexing-view-versus-copy\n",
      "  This is separate from the ipykernel package so we can avoid doing imports until\n"
     ]
    }
   ],
   "source": [
    "df.Outlet_Size[(df.Outlet_Size.isnull())\n",
    "               &(df.Outlet_Type == 'Grocery Store')] = df.Outlet_Size[(df.Outlet_Size.isnull())\n",
    "                                                                      &(df.Outlet_Type == 'Grocery Store')].fillna('Small')"
   ]
  },
  {
   "cell_type": "markdown",
   "metadata": {},
   "source": [
    "Для Supermarket Type1 с NULL Значениями обучим модель после обра отки категориальных признаков"
   ]
  },
  {
   "cell_type": "markdown",
   "metadata": {},
   "source": [
    "#### Категориальные признаки"
   ]
  },
  {
   "cell_type": "markdown",
   "metadata": {},
   "source": [
    "Преобразуем размер магазина "
   ]
  },
  {
   "cell_type": "code",
   "execution_count": 21,
   "metadata": {},
   "outputs": [
    {
     "name": "stderr",
     "output_type": "stream",
     "text": [
      "C:\\ProgramData\\Anaconda3\\lib\\site-packages\\ipykernel_launcher.py:2: SettingWithCopyWarning: \n",
      "A value is trying to be set on a copy of a slice from a DataFrame\n",
      "\n",
      "See the caveats in the documentation: http://pandas.pydata.org/pandas-docs/stable/indexing.html#indexing-view-versus-copy\n",
      "  \n"
     ]
    }
   ],
   "source": [
    "le = LabelEncoder()\n",
    "df.Outlet_Size[~df.Outlet_Size.isnull()] = le.fit_transform(df.Outlet_Size[~df.Outlet_Size.isnull()])"
   ]
  },
  {
   "cell_type": "code",
   "execution_count": 22,
   "metadata": {
    "collapsed": true
   },
   "outputs": [],
   "source": [
    "df['Outlet_Establishment_Year'] = df['Outlet_Establishment_Year'].apply(str)"
   ]
  },
  {
   "cell_type": "markdown",
   "metadata": {},
   "source": [
    "Преобразовываем все категориальные признаки в стобцы на каждое уникальное значения"
   ]
  },
  {
   "cell_type": "code",
   "execution_count": 23,
   "metadata": {
    "collapsed": true
   },
   "outputs": [],
   "source": [
    "#Item пока просто удалим, т.к. разворачивать в категориальные признаки создаст большую матрицу\n",
    "cat_dummies = pd.get_dummies(df[['Item_Fat_Content','Item_Type','Outlet_Identifier','Outlet_Establishment_Year'\n",
    "                        ,'Outlet_Location_Type','Outlet_Type','Item_Group']], prefix='cat_')\n",
    "df = pd.concat([df,cat_dummies], axis = 1)\n",
    "df = df.drop(['Item_Fat_Content','Item_Type','Outlet_Establishment_Year','Outlet_Identifier'\n",
    "                        ,'Outlet_Location_Type','Outlet_Type','Item_Group','Item'], axis = 1)"
   ]
  },
  {
   "cell_type": "code",
   "execution_count": 24,
   "metadata": {
    "scrolled": true
   },
   "outputs": [
    {
     "data": {
      "text/html": [
       "<div>\n",
       "<style>\n",
       "    .dataframe thead tr:only-child th {\n",
       "        text-align: right;\n",
       "    }\n",
       "\n",
       "    .dataframe thead th {\n",
       "        text-align: left;\n",
       "    }\n",
       "\n",
       "    .dataframe tbody tr th {\n",
       "        vertical-align: top;\n",
       "    }\n",
       "</style>\n",
       "<table border=\"1\" class=\"dataframe\">\n",
       "  <thead>\n",
       "    <tr style=\"text-align: right;\">\n",
       "      <th></th>\n",
       "      <th>Item_Weight</th>\n",
       "      <th>Item_Visibility</th>\n",
       "      <th>Item_MRP</th>\n",
       "      <th>Outlet_Size</th>\n",
       "      <th>Item_Outlet_Sales</th>\n",
       "      <th>cat__LF</th>\n",
       "      <th>cat__Low Fat</th>\n",
       "      <th>cat__Regular</th>\n",
       "      <th>cat__low fat</th>\n",
       "      <th>cat__reg</th>\n",
       "      <th>...</th>\n",
       "      <th>cat__Tier 1</th>\n",
       "      <th>cat__Tier 2</th>\n",
       "      <th>cat__Tier 3</th>\n",
       "      <th>cat__Grocery Store</th>\n",
       "      <th>cat__Supermarket Type1</th>\n",
       "      <th>cat__Supermarket Type2</th>\n",
       "      <th>cat__Supermarket Type3</th>\n",
       "      <th>cat__DR</th>\n",
       "      <th>cat__FD</th>\n",
       "      <th>cat__NC</th>\n",
       "    </tr>\n",
       "  </thead>\n",
       "  <tbody>\n",
       "    <tr>\n",
       "      <th>0</th>\n",
       "      <td>9.30</td>\n",
       "      <td>0.016047</td>\n",
       "      <td>249.8092</td>\n",
       "      <td>1</td>\n",
       "      <td>3735.1380</td>\n",
       "      <td>0</td>\n",
       "      <td>1</td>\n",
       "      <td>0</td>\n",
       "      <td>0</td>\n",
       "      <td>0</td>\n",
       "      <td>...</td>\n",
       "      <td>1</td>\n",
       "      <td>0</td>\n",
       "      <td>0</td>\n",
       "      <td>0</td>\n",
       "      <td>1</td>\n",
       "      <td>0</td>\n",
       "      <td>0</td>\n",
       "      <td>0</td>\n",
       "      <td>1</td>\n",
       "      <td>0</td>\n",
       "    </tr>\n",
       "    <tr>\n",
       "      <th>1</th>\n",
       "      <td>5.92</td>\n",
       "      <td>0.019278</td>\n",
       "      <td>48.2692</td>\n",
       "      <td>1</td>\n",
       "      <td>443.4228</td>\n",
       "      <td>0</td>\n",
       "      <td>0</td>\n",
       "      <td>1</td>\n",
       "      <td>0</td>\n",
       "      <td>0</td>\n",
       "      <td>...</td>\n",
       "      <td>0</td>\n",
       "      <td>0</td>\n",
       "      <td>1</td>\n",
       "      <td>0</td>\n",
       "      <td>0</td>\n",
       "      <td>1</td>\n",
       "      <td>0</td>\n",
       "      <td>1</td>\n",
       "      <td>0</td>\n",
       "      <td>0</td>\n",
       "    </tr>\n",
       "    <tr>\n",
       "      <th>2</th>\n",
       "      <td>17.50</td>\n",
       "      <td>0.016760</td>\n",
       "      <td>141.6180</td>\n",
       "      <td>1</td>\n",
       "      <td>2097.2700</td>\n",
       "      <td>0</td>\n",
       "      <td>1</td>\n",
       "      <td>0</td>\n",
       "      <td>0</td>\n",
       "      <td>0</td>\n",
       "      <td>...</td>\n",
       "      <td>1</td>\n",
       "      <td>0</td>\n",
       "      <td>0</td>\n",
       "      <td>0</td>\n",
       "      <td>1</td>\n",
       "      <td>0</td>\n",
       "      <td>0</td>\n",
       "      <td>0</td>\n",
       "      <td>1</td>\n",
       "      <td>0</td>\n",
       "    </tr>\n",
       "    <tr>\n",
       "      <th>3</th>\n",
       "      <td>19.20</td>\n",
       "      <td>0.000000</td>\n",
       "      <td>182.0950</td>\n",
       "      <td>2</td>\n",
       "      <td>732.3800</td>\n",
       "      <td>0</td>\n",
       "      <td>0</td>\n",
       "      <td>1</td>\n",
       "      <td>0</td>\n",
       "      <td>0</td>\n",
       "      <td>...</td>\n",
       "      <td>0</td>\n",
       "      <td>0</td>\n",
       "      <td>1</td>\n",
       "      <td>1</td>\n",
       "      <td>0</td>\n",
       "      <td>0</td>\n",
       "      <td>0</td>\n",
       "      <td>0</td>\n",
       "      <td>1</td>\n",
       "      <td>0</td>\n",
       "    </tr>\n",
       "    <tr>\n",
       "      <th>4</th>\n",
       "      <td>8.93</td>\n",
       "      <td>0.000000</td>\n",
       "      <td>53.8614</td>\n",
       "      <td>0</td>\n",
       "      <td>994.7052</td>\n",
       "      <td>0</td>\n",
       "      <td>1</td>\n",
       "      <td>0</td>\n",
       "      <td>0</td>\n",
       "      <td>0</td>\n",
       "      <td>...</td>\n",
       "      <td>0</td>\n",
       "      <td>0</td>\n",
       "      <td>1</td>\n",
       "      <td>0</td>\n",
       "      <td>1</td>\n",
       "      <td>0</td>\n",
       "      <td>0</td>\n",
       "      <td>0</td>\n",
       "      <td>0</td>\n",
       "      <td>1</td>\n",
       "    </tr>\n",
       "  </tbody>\n",
       "</table>\n",
       "<p>5 rows × 55 columns</p>\n",
       "</div>"
      ],
      "text/plain": [
       "   Item_Weight  Item_Visibility  Item_MRP Outlet_Size  Item_Outlet_Sales  \\\n",
       "0         9.30         0.016047  249.8092           1          3735.1380   \n",
       "1         5.92         0.019278   48.2692           1           443.4228   \n",
       "2        17.50         0.016760  141.6180           1          2097.2700   \n",
       "3        19.20         0.000000  182.0950           2           732.3800   \n",
       "4         8.93         0.000000   53.8614           0           994.7052   \n",
       "\n",
       "   cat__LF  cat__Low Fat  cat__Regular  cat__low fat  cat__reg   ...     \\\n",
       "0        0             1             0             0         0   ...      \n",
       "1        0             0             1             0         0   ...      \n",
       "2        0             1             0             0         0   ...      \n",
       "3        0             0             1             0         0   ...      \n",
       "4        0             1             0             0         0   ...      \n",
       "\n",
       "   cat__Tier 1  cat__Tier 2  cat__Tier 3  cat__Grocery Store  \\\n",
       "0            1            0            0                   0   \n",
       "1            0            0            1                   0   \n",
       "2            1            0            0                   0   \n",
       "3            0            0            1                   1   \n",
       "4            0            0            1                   0   \n",
       "\n",
       "   cat__Supermarket Type1  cat__Supermarket Type2  cat__Supermarket Type3  \\\n",
       "0                       1                       0                       0   \n",
       "1                       0                       1                       0   \n",
       "2                       1                       0                       0   \n",
       "3                       0                       0                       0   \n",
       "4                       1                       0                       0   \n",
       "\n",
       "   cat__DR  cat__FD  cat__NC  \n",
       "0        0        1        0  \n",
       "1        1        0        0  \n",
       "2        0        1        0  \n",
       "3        0        1        0  \n",
       "4        0        0        1  \n",
       "\n",
       "[5 rows x 55 columns]"
      ]
     },
     "execution_count": 24,
     "metadata": {},
     "output_type": "execute_result"
    }
   ],
   "source": [
    "df.head()"
   ]
  },
  {
   "cell_type": "markdown",
   "metadata": {},
   "source": [
    "Ищем лучшие параметры и обучаем модель для предсказания размера магазина"
   ]
  },
  {
   "cell_type": "code",
   "execution_count": 25,
   "metadata": {
    "collapsed": true
   },
   "outputs": [],
   "source": [
    "X_size = df[(df['cat__Supermarket Type1'] == 1)&(~df['Outlet_Size'].isnull())]\n",
    "y_size = X_size.Outlet_Size.astype('int')\n",
    "X_size = X_size.drop('Outlet_Size', axis= 1)\n",
    "X_target = df[(df['cat__Supermarket Type1'] == 1)&(df['Outlet_Size'].isnull())]\n",
    "X_target = X_target.drop('Outlet_Size', axis= 1)"
   ]
  },
  {
   "cell_type": "code",
   "execution_count": 26,
   "metadata": {},
   "outputs": [
    {
     "data": {
      "text/plain": [
       "GridSearchCV(cv=5, error_score='raise',\n",
       "       estimator=DecisionTreeClassifier(class_weight=None, criterion='gini', max_depth=None,\n",
       "            max_features=None, max_leaf_nodes=None,\n",
       "            min_impurity_split=1e-07, min_samples_leaf=1,\n",
       "            min_samples_split=2, min_weight_fraction_leaf=0.0,\n",
       "            presort=False, random_state=None, splitter='best'),\n",
       "       fit_params={}, iid=True, n_jobs=1,\n",
       "       param_grid={'criterion': ['gini', 'entropy'], 'min_samples_split': range(2, 20), 'max_depth': range(1, 15)},\n",
       "       pre_dispatch='2*n_jobs', refit=True, return_train_score=True,\n",
       "       scoring=None, verbose=0)"
      ]
     },
     "execution_count": 26,
     "metadata": {},
     "output_type": "execute_result"
    }
   ],
   "source": [
    "dt_model = DecisionTreeClassifier()\n",
    "parameters={'criterion':['gini','entropy'], 'min_samples_split' : range(2,20,1),'max_depth': range(1,15,1)}\n",
    "grid = GridSearchCV(dt_model,parameters, cv = 5)\n",
    "grid.fit(X_size, y_size)"
   ]
  },
  {
   "cell_type": "code",
   "execution_count": 27,
   "metadata": {},
   "outputs": [
    {
     "data": {
      "text/plain": [
       "{'criterion': 'gini', 'max_depth': 2, 'min_samples_split': 2}"
      ]
     },
     "execution_count": 27,
     "metadata": {},
     "output_type": "execute_result"
    }
   ],
   "source": [
    "grid.best_params_"
   ]
  },
  {
   "cell_type": "code",
   "execution_count": 28,
   "metadata": {},
   "outputs": [
    {
     "name": "stderr",
     "output_type": "stream",
     "text": [
      "C:\\ProgramData\\Anaconda3\\lib\\site-packages\\ipykernel_launcher.py:4: SettingWithCopyWarning: \n",
      "A value is trying to be set on a copy of a slice from a DataFrame\n",
      "\n",
      "See the caveats in the documentation: http://pandas.pydata.org/pandas-docs/stable/indexing.html#indexing-view-versus-copy\n",
      "  after removing the cwd from sys.path.\n"
     ]
    }
   ],
   "source": [
    "dt_model = DecisionTreeClassifier(**grid.best_params_)\n",
    "dt_model.fit(X_size, y_size)\n",
    "prediction = dt_model.predict(X_target)\n",
    "df['Outlet_Size'][(df['cat__Supermarket Type1'] == 1)&(df['Outlet_Size'].isnull())] = prediction"
   ]
  },
  {
   "cell_type": "code",
   "execution_count": 29,
   "metadata": {},
   "outputs": [
    {
     "name": "stdout",
     "output_type": "stream",
     "text": [
      "<class 'pandas.core.frame.DataFrame'>\n",
      "RangeIndex: 8523 entries, 0 to 8522\n",
      "Data columns (total 55 columns):\n",
      "Item_Weight                   8523 non-null float64\n",
      "Item_Visibility               8523 non-null float64\n",
      "Item_MRP                      8523 non-null float64\n",
      "Outlet_Size                   8523 non-null object\n",
      "Item_Outlet_Sales             8523 non-null float64\n",
      "cat__LF                       8523 non-null uint8\n",
      "cat__Low Fat                  8523 non-null uint8\n",
      "cat__Regular                  8523 non-null uint8\n",
      "cat__low fat                  8523 non-null uint8\n",
      "cat__reg                      8523 non-null uint8\n",
      "cat__Baking Goods             8523 non-null uint8\n",
      "cat__Breads                   8523 non-null uint8\n",
      "cat__Breakfast                8523 non-null uint8\n",
      "cat__Canned                   8523 non-null uint8\n",
      "cat__Dairy                    8523 non-null uint8\n",
      "cat__Frozen Foods             8523 non-null uint8\n",
      "cat__Fruits and Vegetables    8523 non-null uint8\n",
      "cat__Hard Drinks              8523 non-null uint8\n",
      "cat__Health and Hygiene       8523 non-null uint8\n",
      "cat__Household                8523 non-null uint8\n",
      "cat__Meat                     8523 non-null uint8\n",
      "cat__Others                   8523 non-null uint8\n",
      "cat__Seafood                  8523 non-null uint8\n",
      "cat__Snack Foods              8523 non-null uint8\n",
      "cat__Soft Drinks              8523 non-null uint8\n",
      "cat__Starchy Foods            8523 non-null uint8\n",
      "cat__OUT010                   8523 non-null uint8\n",
      "cat__OUT013                   8523 non-null uint8\n",
      "cat__OUT017                   8523 non-null uint8\n",
      "cat__OUT018                   8523 non-null uint8\n",
      "cat__OUT019                   8523 non-null uint8\n",
      "cat__OUT027                   8523 non-null uint8\n",
      "cat__OUT035                   8523 non-null uint8\n",
      "cat__OUT045                   8523 non-null uint8\n",
      "cat__OUT046                   8523 non-null uint8\n",
      "cat__OUT049                   8523 non-null uint8\n",
      "cat__1985                     8523 non-null uint8\n",
      "cat__1987                     8523 non-null uint8\n",
      "cat__1997                     8523 non-null uint8\n",
      "cat__1998                     8523 non-null uint8\n",
      "cat__1999                     8523 non-null uint8\n",
      "cat__2002                     8523 non-null uint8\n",
      "cat__2004                     8523 non-null uint8\n",
      "cat__2007                     8523 non-null uint8\n",
      "cat__2009                     8523 non-null uint8\n",
      "cat__Tier 1                   8523 non-null uint8\n",
      "cat__Tier 2                   8523 non-null uint8\n",
      "cat__Tier 3                   8523 non-null uint8\n",
      "cat__Grocery Store            8523 non-null uint8\n",
      "cat__Supermarket Type1        8523 non-null uint8\n",
      "cat__Supermarket Type2        8523 non-null uint8\n",
      "cat__Supermarket Type3        8523 non-null uint8\n",
      "cat__DR                       8523 non-null uint8\n",
      "cat__FD                       8523 non-null uint8\n",
      "cat__NC                       8523 non-null uint8\n",
      "dtypes: float64(4), object(1), uint8(50)\n",
      "memory usage: 749.2+ KB\n"
     ]
    }
   ],
   "source": [
    "df.info()"
   ]
  },
  {
   "cell_type": "markdown",
   "metadata": {},
   "source": [
    "Преобразуем последний категориальный признак размера магазина"
   ]
  },
  {
   "cell_type": "code",
   "execution_count": 30,
   "metadata": {
    "collapsed": true
   },
   "outputs": [],
   "source": [
    "cat_dummies = pd.get_dummies(df[['Outlet_Size']], prefix='cat_Size_')\n",
    "df = pd.concat([df,cat_dummies], axis = 1)\n",
    "df = df.drop(['Outlet_Size'], axis = 1)"
   ]
  },
  {
   "cell_type": "code",
   "execution_count": 31,
   "metadata": {},
   "outputs": [
    {
     "data": {
      "text/html": [
       "<div>\n",
       "<style>\n",
       "    .dataframe thead tr:only-child th {\n",
       "        text-align: right;\n",
       "    }\n",
       "\n",
       "    .dataframe thead th {\n",
       "        text-align: left;\n",
       "    }\n",
       "\n",
       "    .dataframe tbody tr th {\n",
       "        vertical-align: top;\n",
       "    }\n",
       "</style>\n",
       "<table border=\"1\" class=\"dataframe\">\n",
       "  <thead>\n",
       "    <tr style=\"text-align: right;\">\n",
       "      <th></th>\n",
       "      <th>Item_Weight</th>\n",
       "      <th>Item_Visibility</th>\n",
       "      <th>Item_MRP</th>\n",
       "      <th>Item_Outlet_Sales</th>\n",
       "      <th>cat__LF</th>\n",
       "      <th>cat__Low Fat</th>\n",
       "      <th>cat__Regular</th>\n",
       "      <th>cat__low fat</th>\n",
       "      <th>cat__reg</th>\n",
       "      <th>cat__Baking Goods</th>\n",
       "      <th>...</th>\n",
       "      <th>cat__Grocery Store</th>\n",
       "      <th>cat__Supermarket Type1</th>\n",
       "      <th>cat__Supermarket Type2</th>\n",
       "      <th>cat__Supermarket Type3</th>\n",
       "      <th>cat__DR</th>\n",
       "      <th>cat__FD</th>\n",
       "      <th>cat__NC</th>\n",
       "      <th>cat_Size__0</th>\n",
       "      <th>cat_Size__1</th>\n",
       "      <th>cat_Size__2</th>\n",
       "    </tr>\n",
       "  </thead>\n",
       "  <tbody>\n",
       "    <tr>\n",
       "      <th>0</th>\n",
       "      <td>9.30</td>\n",
       "      <td>0.016047</td>\n",
       "      <td>249.8092</td>\n",
       "      <td>3735.1380</td>\n",
       "      <td>0</td>\n",
       "      <td>1</td>\n",
       "      <td>0</td>\n",
       "      <td>0</td>\n",
       "      <td>0</td>\n",
       "      <td>0</td>\n",
       "      <td>...</td>\n",
       "      <td>0</td>\n",
       "      <td>1</td>\n",
       "      <td>0</td>\n",
       "      <td>0</td>\n",
       "      <td>0</td>\n",
       "      <td>1</td>\n",
       "      <td>0</td>\n",
       "      <td>0</td>\n",
       "      <td>1</td>\n",
       "      <td>0</td>\n",
       "    </tr>\n",
       "    <tr>\n",
       "      <th>1</th>\n",
       "      <td>5.92</td>\n",
       "      <td>0.019278</td>\n",
       "      <td>48.2692</td>\n",
       "      <td>443.4228</td>\n",
       "      <td>0</td>\n",
       "      <td>0</td>\n",
       "      <td>1</td>\n",
       "      <td>0</td>\n",
       "      <td>0</td>\n",
       "      <td>0</td>\n",
       "      <td>...</td>\n",
       "      <td>0</td>\n",
       "      <td>0</td>\n",
       "      <td>1</td>\n",
       "      <td>0</td>\n",
       "      <td>1</td>\n",
       "      <td>0</td>\n",
       "      <td>0</td>\n",
       "      <td>0</td>\n",
       "      <td>1</td>\n",
       "      <td>0</td>\n",
       "    </tr>\n",
       "    <tr>\n",
       "      <th>2</th>\n",
       "      <td>17.50</td>\n",
       "      <td>0.016760</td>\n",
       "      <td>141.6180</td>\n",
       "      <td>2097.2700</td>\n",
       "      <td>0</td>\n",
       "      <td>1</td>\n",
       "      <td>0</td>\n",
       "      <td>0</td>\n",
       "      <td>0</td>\n",
       "      <td>0</td>\n",
       "      <td>...</td>\n",
       "      <td>0</td>\n",
       "      <td>1</td>\n",
       "      <td>0</td>\n",
       "      <td>0</td>\n",
       "      <td>0</td>\n",
       "      <td>1</td>\n",
       "      <td>0</td>\n",
       "      <td>0</td>\n",
       "      <td>1</td>\n",
       "      <td>0</td>\n",
       "    </tr>\n",
       "    <tr>\n",
       "      <th>3</th>\n",
       "      <td>19.20</td>\n",
       "      <td>0.000000</td>\n",
       "      <td>182.0950</td>\n",
       "      <td>732.3800</td>\n",
       "      <td>0</td>\n",
       "      <td>0</td>\n",
       "      <td>1</td>\n",
       "      <td>0</td>\n",
       "      <td>0</td>\n",
       "      <td>0</td>\n",
       "      <td>...</td>\n",
       "      <td>1</td>\n",
       "      <td>0</td>\n",
       "      <td>0</td>\n",
       "      <td>0</td>\n",
       "      <td>0</td>\n",
       "      <td>1</td>\n",
       "      <td>0</td>\n",
       "      <td>0</td>\n",
       "      <td>0</td>\n",
       "      <td>1</td>\n",
       "    </tr>\n",
       "    <tr>\n",
       "      <th>4</th>\n",
       "      <td>8.93</td>\n",
       "      <td>0.000000</td>\n",
       "      <td>53.8614</td>\n",
       "      <td>994.7052</td>\n",
       "      <td>0</td>\n",
       "      <td>1</td>\n",
       "      <td>0</td>\n",
       "      <td>0</td>\n",
       "      <td>0</td>\n",
       "      <td>0</td>\n",
       "      <td>...</td>\n",
       "      <td>0</td>\n",
       "      <td>1</td>\n",
       "      <td>0</td>\n",
       "      <td>0</td>\n",
       "      <td>0</td>\n",
       "      <td>0</td>\n",
       "      <td>1</td>\n",
       "      <td>1</td>\n",
       "      <td>0</td>\n",
       "      <td>0</td>\n",
       "    </tr>\n",
       "  </tbody>\n",
       "</table>\n",
       "<p>5 rows × 57 columns</p>\n",
       "</div>"
      ],
      "text/plain": [
       "   Item_Weight  Item_Visibility  Item_MRP  Item_Outlet_Sales  cat__LF  \\\n",
       "0         9.30         0.016047  249.8092          3735.1380        0   \n",
       "1         5.92         0.019278   48.2692           443.4228        0   \n",
       "2        17.50         0.016760  141.6180          2097.2700        0   \n",
       "3        19.20         0.000000  182.0950           732.3800        0   \n",
       "4         8.93         0.000000   53.8614           994.7052        0   \n",
       "\n",
       "   cat__Low Fat  cat__Regular  cat__low fat  cat__reg  cat__Baking Goods  \\\n",
       "0             1             0             0         0                  0   \n",
       "1             0             1             0         0                  0   \n",
       "2             1             0             0         0                  0   \n",
       "3             0             1             0         0                  0   \n",
       "4             1             0             0         0                  0   \n",
       "\n",
       "      ...       cat__Grocery Store  cat__Supermarket Type1  \\\n",
       "0     ...                        0                       1   \n",
       "1     ...                        0                       0   \n",
       "2     ...                        0                       1   \n",
       "3     ...                        1                       0   \n",
       "4     ...                        0                       1   \n",
       "\n",
       "   cat__Supermarket Type2  cat__Supermarket Type3  cat__DR  cat__FD  cat__NC  \\\n",
       "0                       0                       0        0        1        0   \n",
       "1                       1                       0        1        0        0   \n",
       "2                       0                       0        0        1        0   \n",
       "3                       0                       0        0        1        0   \n",
       "4                       0                       0        0        0        1   \n",
       "\n",
       "   cat_Size__0  cat_Size__1  cat_Size__2  \n",
       "0            0            1            0  \n",
       "1            0            1            0  \n",
       "2            0            1            0  \n",
       "3            0            0            1  \n",
       "4            1            0            0  \n",
       "\n",
       "[5 rows x 57 columns]"
      ]
     },
     "execution_count": 31,
     "metadata": {},
     "output_type": "execute_result"
    }
   ],
   "source": [
    "df.head()"
   ]
  },
  {
   "cell_type": "markdown",
   "metadata": {},
   "source": [
    "#### Корреляция признаков с данными о продажах"
   ]
  },
  {
   "cell_type": "code",
   "execution_count": 32,
   "metadata": {},
   "outputs": [
    {
     "name": "stdout",
     "output_type": "stream",
     "text": [
      "               feature  corr_coef\n",
      "47  cat__Grocery Store  -0.411727\n",
      "38           cat__1998  -0.284883\n",
      "25         cat__OUT010  -0.284883\n",
      "29         cat__OUT019  -0.277250\n",
      "56         cat_Size__2  -0.208912\n",
      "                   feature  corr_coef\n",
      "3        Item_Outlet_Sales   1.000000\n",
      "2                 Item_MRP   0.567574\n",
      "50  cat__Supermarket Type3   0.311192\n",
      "30             cat__OUT027   0.311192\n",
      "55             cat_Size__1   0.204701\n",
      "48  cat__Supermarket Type1   0.108765\n"
     ]
    }
   ],
   "source": [
    "corr = []\n",
    "for i in df.columns:\n",
    "    correl = df.corr().loc[i,'Item_Outlet_Sales']\n",
    "    corr.append([i,correl])\n",
    "    \n",
    "corr = pd.DataFrame(corr, columns=['feature','corr_coef'])\n",
    "print(corr.sort_values(by= 'corr_coef').head())\n",
    "print(corr.sort_values(by= 'corr_coef', ascending=False).head(6))"
   ]
  },
  {
   "cell_type": "markdown",
   "metadata": {},
   "source": [
    "Сильно коррелируют отдельные магазины, их размеры, типы и максимальная цена продажи в них"
   ]
  },
  {
   "cell_type": "markdown",
   "metadata": {},
   "source": [
    "#### Делим выборку на обучающую и тестовую"
   ]
  },
  {
   "cell_type": "code",
   "execution_count": 33,
   "metadata": {
    "collapsed": true
   },
   "outputs": [],
   "source": [
    "y = df.Item_Outlet_Sales\n",
    "X = df.drop('Item_Outlet_Sales', axis= 1)\n",
    "features = X.columns"
   ]
  },
  {
   "cell_type": "code",
   "execution_count": 34,
   "metadata": {
    "collapsed": true
   },
   "outputs": [],
   "source": [
    "X_train, X_test, y_train, y_test = train_test_split(X, y, test_size = 0.2)"
   ]
  },
  {
   "cell_type": "markdown",
   "metadata": {},
   "source": [
    "#### Нормализуем данные для обучения"
   ]
  },
  {
   "cell_type": "code",
   "execution_count": 35,
   "metadata": {
    "collapsed": true
   },
   "outputs": [],
   "source": [
    "stsc = StandardScaler()\n",
    "X_train = pd.DataFrame(stsc.fit_transform(X_train))\n",
    "X_test = pd.DataFrame(stsc.transform(X_test))"
   ]
  },
  {
   "cell_type": "markdown",
   "metadata": {},
   "source": [
    "#### Выбрать и обосновать метрику, на основе которой будем измерять качество полученной модели"
   ]
  },
  {
   "cell_type": "code",
   "execution_count": 36,
   "metadata": {
    "collapsed": true
   },
   "outputs": [],
   "source": [
    "from sklearn.metrics import r2_score"
   ]
  },
  {
   "cell_type": "markdown",
   "metadata": {},
   "source": [
    "В качестве метрики выбрал коффициент детерминации, а не MSE, чтобы исключить сильные штрафы из-за выбросов и понимать, насколько хорошо модель решает задачу, что MSE также не позволяет сделать."
   ]
  },
  {
   "cell_type": "markdown",
   "metadata": {},
   "source": [
    "#### Построить и подобрать оптимальные параметры для любой линейной модели"
   ]
  },
  {
   "cell_type": "code",
   "execution_count": 37,
   "metadata": {},
   "outputs": [
    {
     "name": "stdout",
     "output_type": "stream",
     "text": [
      "r2 / variance :  0.557946748354\n"
     ]
    }
   ],
   "source": [
    "model = LinearRegression()\n",
    "parameters = {'fit_intercept':[True,False], \n",
    "              'normalize':[True,False], \n",
    "              'copy_X':[True, False]}\n",
    "grid = GridSearchCV(model, parameters, cv=5)\n",
    "grid.fit(X_train,y_train)\n",
    "print(\"r2 / variance : \", grid.best_score_)"
   ]
  },
  {
   "cell_type": "code",
   "execution_count": 38,
   "metadata": {},
   "outputs": [
    {
     "name": "stdout",
     "output_type": "stream",
     "text": [
      "r2 / variance :  0.566981226621\n"
     ]
    }
   ],
   "source": [
    "new_model = LinearRegression(**grid.best_params_)\n",
    "new_model.fit(X_train, y_train)\n",
    "prediction = new_model.predict(X_test)\n",
    "print(\"r2 / variance : \", r2_score(y_test, prediction))"
   ]
  },
  {
   "cell_type": "markdown",
   "metadata": {},
   "source": [
    "#### Построить и подобрать оптимальные параметры для любой нелинейной модели"
   ]
  },
  {
   "cell_type": "code",
   "execution_count": 39,
   "metadata": {},
   "outputs": [
    {
     "name": "stdout",
     "output_type": "stream",
     "text": [
      "r2 / variance :  0.586710932854\n"
     ]
    }
   ],
   "source": [
    "model = DecisionTreeRegressor()\n",
    "parameters = {'min_samples_split' : range(2,20,1),'max_depth': range(1,15,1)}\n",
    "grid = GridSearchCV(model, parameters, cv=5)\n",
    "grid.fit(X_train,y_train)\n",
    "print(\"r2 / variance : \", grid.best_score_)"
   ]
  },
  {
   "cell_type": "code",
   "execution_count": 40,
   "metadata": {},
   "outputs": [
    {
     "name": "stdout",
     "output_type": "stream",
     "text": [
      "r2 / variance :  0.594094846017\n"
     ]
    }
   ],
   "source": [
    "new_model = DecisionTreeRegressor(**grid.best_params_)\n",
    "new_model.fit(X_train, y_train)\n",
    "prediction = new_model.predict(X_test)\n",
    "print(\"r2 / variance : \", r2_score(y_test, prediction))"
   ]
  },
  {
   "cell_type": "markdown",
   "metadata": {},
   "source": [
    "Топ 3 признака больше всего влияющие на объемы продаж"
   ]
  },
  {
   "cell_type": "code",
   "execution_count": 41,
   "metadata": {},
   "outputs": [
    {
     "name": "stdout",
     "output_type": "stream",
     "text": [
      "1. feature Item_MRP with value (0.557669)\n",
      "2. feature cat__Grocery Store with value (0.322252)\n",
      "3. feature cat__1985 with value (0.115297)\n"
     ]
    }
   ],
   "source": [
    "importances = new_model.feature_importances_\n",
    "indices = np.argsort(importances)[::-1]\n",
    "\n",
    "for f in range(0,3):\n",
    "    print(\"%d. feature %s with value (%f)\" % (f + 1, features[indices[f]], importances[indices[f]]))"
   ]
  },
  {
   "cell_type": "markdown",
   "metadata": {},
   "source": [
    "#### Провести стекинг нескольких моделей"
   ]
  },
  {
   "cell_type": "code",
   "execution_count": 42,
   "metadata": {
    "collapsed": true
   },
   "outputs": [],
   "source": [
    "y_train_int = y_train.astype(int)"
   ]
  },
  {
   "cell_type": "code",
   "execution_count": 43,
   "metadata": {
    "collapsed": true
   },
   "outputs": [],
   "source": [
    "def get_meta_features(clf, X_train, y_train, X_test, stack_cv):\n",
    "    meta_train = np.zeros_like(y_train, dtype=float)\n",
    "    meta_test = np.zeros_like(y_test, dtype=float)\n",
    "    \n",
    "    for i, (train_ind, test_ind) in enumerate(stack_cv.split(X_train, y_train)):\n",
    "        model.fit(X_train.iloc[train_ind], y_train.iloc[train_ind])\n",
    "        meta_train[test_ind] = model.predict(X_train.iloc[test_ind])\n",
    "        meta_test += model.predict(X_test) \n",
    "    print('Done')\n",
    "    return(meta_train, meta_test/ stack_cv.n_splits)"
   ]
  },
  {
   "cell_type": "code",
   "execution_count": 50,
   "metadata": {},
   "outputs": [
    {
     "name": "stdout",
     "output_type": "stream",
     "text": [
      "GradientBoostingRegressor fiting\n"
     ]
    },
    {
     "name": "stderr",
     "output_type": "stream",
     "text": [
      "C:\\ProgramData\\Anaconda3\\lib\\site-packages\\sklearn\\model_selection\\_split.py:581: Warning: The least populated class in y has only 1 members, which is too few. The minimum number of groups for any class cannot be less than n_splits=10.\n",
      "  % (min_groups, self.n_splits)), Warning)\n"
     ]
    },
    {
     "name": "stdout",
     "output_type": "stream",
     "text": [
      "Done\n",
      "DecisionTreeRegressor fiting\n",
      "Done\n",
      "KNeighborsRegressor fiting\n",
      "Done\n"
     ]
    }
   ],
   "source": [
    "stack_cv = StratifiedKFold(n_splits= 10, random_state= 777)\n",
    "\n",
    "meta_train = []\n",
    "meta_test = []\n",
    "col_names = []\n",
    "\n",
    "\n",
    "print('GradientBoostingRegressor fiting')\n",
    "grb = SGDRegressor()\n",
    "meta_tr, meta_te = get_meta_features( grb, X_train, y_train_int, X_test, stack_cv)\n",
    "meta_train.append(meta_tr)\n",
    "meta_test.append(meta_te)\n",
    "col_names.append('grb_pred')\n",
    "\n",
    "print('DecisionTreeRegressor fiting')\n",
    "dtr = DecisionTreeRegressor()\n",
    "meta_tr, meta_te = get_meta_features( dtr, X_train, y_train_int, X_test, stack_cv)\n",
    "meta_train.append(meta_tr)\n",
    "meta_test.append(meta_te)\n",
    "col_names.append('dtr_pred')\n",
    "\n",
    "print('KNeighborsRegressor fiting')\n",
    "knreg = KNeighborsRegressor(n_neighbors=3)\n",
    "meta_tr, meta_te = get_meta_features( knreg, X_train, y_train_int, X_test, stack_cv)\n",
    "meta_train.append(meta_tr)\n",
    "meta_test.append(meta_te)\n",
    "col_names.append('knreg_pred')\n"
   ]
  },
  {
   "cell_type": "code",
   "execution_count": 51,
   "metadata": {
    "collapsed": true
   },
   "outputs": [],
   "source": [
    "X_meta_train = pd.DataFrame(np.stack(meta_train, axis = 1), columns= col_names)\n",
    "X_meta_test = pd.DataFrame(np.stack(meta_test, axis = 1), columns= col_names)"
   ]
  },
  {
   "cell_type": "code",
   "execution_count": 52,
   "metadata": {
    "collapsed": true
   },
   "outputs": [],
   "source": [
    "X_meta_train = pd.DataFrame(stsc.fit_transform(X_meta_train))\n",
    "X_meta_test = stsc.transform(X_meta_test)"
   ]
  },
  {
   "cell_type": "markdown",
   "metadata": {},
   "source": [
    "#### Оцениваем качество модели на отложенной выборке"
   ]
  },
  {
   "cell_type": "code",
   "execution_count": 53,
   "metadata": {},
   "outputs": [
    {
     "data": {
      "text/plain": [
       "0.44404531982634021"
      ]
     },
     "execution_count": 53,
     "metadata": {},
     "output_type": "execute_result"
    }
   ],
   "source": [
    "meta_model = GradientBoostingRegressor().fit(X_meta_train, y_train)\n",
    "y_prediction = meta_model.predict(X_meta_test)\n",
    "r2_score(y_test, y_prediction)"
   ]
  },
  {
   "cell_type": "code",
   "execution_count": 54,
   "metadata": {},
   "outputs": [
    {
     "data": {
      "text/plain": [
       "0.56484282010867992"
      ]
     },
     "execution_count": 54,
     "metadata": {},
     "output_type": "execute_result"
    }
   ],
   "source": [
    "grb.fit(X_train, y_train)\n",
    "grb.score(X_test, y_test)"
   ]
  },
  {
   "cell_type": "markdown",
   "metadata": {},
   "source": [
    "#### Топ 3 признака больше всего влияющие на объемы продаж"
   ]
  },
  {
   "cell_type": "code",
   "execution_count": 55,
   "metadata": {},
   "outputs": [
    {
     "name": "stdout",
     "output_type": "stream",
     "text": [
      "1. feature Item_MRP with value (0.388636)\n",
      "2. feature Item_Visibility with value (0.333020)\n",
      "3. feature Item_Weight with value (0.278344)\n"
     ]
    }
   ],
   "source": [
    "importances = meta_model.feature_importances_\n",
    "indices = np.argsort(importances)[::-1]\n",
    "\n",
    "for f in range(0,3):\n",
    "    print(\"%d. feature %s with value (%f)\" % (f + 1, features[indices[f]], importances[indices[f]]))"
   ]
  },
  {
   "cell_type": "markdown",
   "metadata": {},
   "source": [
    "В итоге мы получаем среднего качества модель. Обработать категориальные признаки не достаточно, для успешного решения задачи.\n",
    "Из возможных улучшений - добавить признаки конкретных продуктов, сейчас их в модели нет, вычислительной мощности не хватает для обработки матрицы и обучения моделей через gridsearch. Также необходимо в стекинг добавить подбор параметров для каждой модели, возможно вынести в отдельную функцию. На текущем уровне стекинг дает результат хуже просто градиентного бустинга."
   ]
  },
  {
   "cell_type": "code",
   "execution_count": null,
   "metadata": {
    "collapsed": true
   },
   "outputs": [],
   "source": []
  }
 ],
 "metadata": {
  "kernelspec": {
   "display_name": "Python 3",
   "language": "python",
   "name": "python3"
  },
  "language_info": {
   "codemirror_mode": {
    "name": "ipython",
    "version": 3
   },
   "file_extension": ".py",
   "mimetype": "text/x-python",
   "name": "python",
   "nbconvert_exporter": "python",
   "pygments_lexer": "ipython3",
   "version": "3.6.1"
  }
 },
 "nbformat": 4,
 "nbformat_minor": 2
}
